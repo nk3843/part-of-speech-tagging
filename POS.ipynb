{
  "nbformat": 4,
  "nbformat_minor": 0,
  "metadata": {
    "colab": {
      "name": "POS.ipynb",
      "provenance": [],
      "include_colab_link": true
    },
    "kernelspec": {
      "name": "python3",
      "display_name": "Python 3"
    }
  },
  "cells": [
    {
      "cell_type": "markdown",
      "metadata": {
        "id": "view-in-github",
        "colab_type": "text"
      },
      "source": [
        "<a href=\"https://colab.research.google.com/github/nk3843/part-of-speech-tagging/blob/main/POS.ipynb\" target=\"_parent\"><img src=\"https://colab.research.google.com/assets/colab-badge.svg\" alt=\"Open In Colab\"/></a>"
      ]
    },
    {
      "cell_type": "code",
      "metadata": {
        "colab": {
          "base_uri": "https://localhost:8080/"
        },
        "id": "Vrh6R6ejqkPU",
        "outputId": "8084569d-2c84-4598-9702-afc7b113666b"
      },
      "source": [
        "!pip install keras"
      ],
      "execution_count": 93,
      "outputs": [
        {
          "output_type": "stream",
          "text": [
            "Requirement already satisfied: keras in /usr/local/lib/python3.7/dist-packages (2.4.3)\n",
            "Requirement already satisfied: h5py in /usr/local/lib/python3.7/dist-packages (from keras) (2.10.0)\n",
            "Requirement already satisfied: numpy>=1.9.1 in /usr/local/lib/python3.7/dist-packages (from keras) (1.19.5)\n",
            "Requirement already satisfied: scipy>=0.14 in /usr/local/lib/python3.7/dist-packages (from keras) (1.4.1)\n",
            "Requirement already satisfied: pyyaml in /usr/local/lib/python3.7/dist-packages (from keras) (3.13)\n",
            "Requirement already satisfied: six in /usr/local/lib/python3.7/dist-packages (from h5py->keras) (1.15.0)\n"
          ],
          "name": "stdout"
        }
      ]
    },
    {
      "cell_type": "code",
      "metadata": {
        "colab": {
          "base_uri": "https://localhost:8080/"
        },
        "id": "qz1uLwlnq0wL",
        "outputId": "74997339-e06e-47fb-a568-9b9e377f4b79"
      },
      "source": [
        "pip install keras-metrics"
      ],
      "execution_count": 94,
      "outputs": [
        {
          "output_type": "stream",
          "text": [
            "Requirement already satisfied: keras-metrics in /usr/local/lib/python3.7/dist-packages (1.1.0)\n",
            "Requirement already satisfied: Keras>=2.1.5 in /usr/local/lib/python3.7/dist-packages (from keras-metrics) (2.4.3)\n",
            "Requirement already satisfied: pyyaml in /usr/local/lib/python3.7/dist-packages (from Keras>=2.1.5->keras-metrics) (3.13)\n",
            "Requirement already satisfied: h5py in /usr/local/lib/python3.7/dist-packages (from Keras>=2.1.5->keras-metrics) (2.10.0)\n",
            "Requirement already satisfied: scipy>=0.14 in /usr/local/lib/python3.7/dist-packages (from Keras>=2.1.5->keras-metrics) (1.4.1)\n",
            "Requirement already satisfied: numpy>=1.9.1 in /usr/local/lib/python3.7/dist-packages (from Keras>=2.1.5->keras-metrics) (1.19.5)\n",
            "Requirement already satisfied: six in /usr/local/lib/python3.7/dist-packages (from h5py->Keras>=2.1.5->keras-metrics) (1.15.0)\n"
          ],
          "name": "stdout"
        }
      ]
    },
    {
      "cell_type": "code",
      "metadata": {
        "id": "esK0Ay8aVdoA"
      },
      "source": [
        "# import necessary libraries\n",
        "import warnings\n",
        "warnings.filterwarnings(\"ignore\")\n",
        "\n",
        "import numpy as np\n",
        "\n",
        "from matplotlib import pyplot as plt\n",
        "\n",
        "import seaborn as sns\n",
        "\n",
        "from gensim.models import KeyedVectors\n",
        "\n",
        "from keras.preprocessing.sequence import pad_sequences\n",
        "from keras.utils.np_utils import to_categorical\n",
        "from keras.models import Sequential\n",
        "from keras.layers import Embedding\n",
        "from keras.layers import Dense, Input\n",
        "from keras.layers import TimeDistributed\n",
        "from keras.layers import LSTM, GRU, Bidirectional, SimpleRNN, RNN\n",
        "from keras.models import Model\n",
        "from keras.preprocessing.text import Tokenizer\n",
        "\n",
        "from sklearn.model_selection import train_test_split\n",
        "from sklearn.utils import shuffle\n",
        "import pandas as pd"
      ],
      "execution_count": 97,
      "outputs": []
    },
    {
      "cell_type": "code",
      "metadata": {
        "colab": {
          "base_uri": "https://localhost:8080/"
        },
        "id": "GIRSrWr_JEzL",
        "outputId": "166cd4f8-6f3f-40d4-eece-4be405b0a533"
      },
      "source": [
        "from google.colab import drive\n",
        "drive.mount('/content/drive')"
      ],
      "execution_count": 98,
      "outputs": [
        {
          "output_type": "stream",
          "text": [
            "Drive already mounted at /content/drive; to attempt to forcibly remount, call drive.mount(\"/content/drive\", force_remount=True).\n"
          ],
          "name": "stdout"
        }
      ]
    },
    {
      "cell_type": "code",
      "metadata": {
        "id": "MI6b7Wai4pk9"
      },
      "source": [
        "df = pd. read_csv(\"data.txt\", sep=\"\\t\", header= None)"
      ],
      "execution_count": 99,
      "outputs": []
    },
    {
      "cell_type": "code",
      "metadata": {
        "id": "xqBOWp2g5DGH"
      },
      "source": [
        "df_text = df[0]\n",
        "df_tag = df[1]"
      ],
      "execution_count": 100,
      "outputs": []
    },
    {
      "cell_type": "code",
      "metadata": {
        "colab": {
          "base_uri": "https://localhost:8080/"
        },
        "id": "zHBtjug062Pe",
        "outputId": "3bd8f38b-6494-4d76-b532-c34ecbc3159f"
      },
      "source": [
        "df_text"
      ],
      "execution_count": 101,
      "outputs": [
        {
          "output_type": "execute_result",
          "data": {
            "text/plain": [
              "0       ares expand name for response\n",
              "1              BKE lattice index flip\n",
              "2                     BLI str r strip\n",
              "3                        Delete Input\n",
              "4                  dialog info update\n",
              "                    ...              \n",
              "1330         Tsurgeon Parse Exception\n",
              "1331                      Value Label\n",
              "1332        Verification Mode Factory\n",
              "1333              Web Socket Listener\n",
              "1334              Workspace File Mask\n",
              "Name: 0, Length: 1335, dtype: object"
            ]
          },
          "metadata": {
            "tags": []
          },
          "execution_count": 101
        }
      ]
    },
    {
      "cell_type": "code",
      "metadata": {
        "colab": {
          "base_uri": "https://localhost:8080/"
        },
        "id": "R9vPA57t6930",
        "outputId": "86fe8449-9dba-4c05-90b1-a2bbe2ed7a96"
      },
      "source": [
        "df_tag"
      ],
      "execution_count": 102,
      "outputs": [
        {
          "output_type": "execute_result",
          "data": {
            "text/plain": [
              "0       PRE V N P N\n",
              "1        PRE NM N V\n",
              "2        PRE N VM V\n",
              "3               V N\n",
              "4            NM N V\n",
              "           ...     \n",
              "1330        NM NM N\n",
              "1331           NM N\n",
              "1332        NM NM N\n",
              "1333        NM NM N\n",
              "1334        NM NM N\n",
              "Name: 1, Length: 1335, dtype: object"
            ]
          },
          "metadata": {
            "tags": []
          },
          "execution_count": 102
        }
      ]
    },
    {
      "cell_type": "code",
      "metadata": {
        "id": "_TVcAJ9H7EuV"
      },
      "source": [
        "num_words = len(set([word.lower() for sentence in df_text for word in sentence]))\n",
        "num_tags   = len(set([word.lower() for sentence in df_tag for word in sentence]))"
      ],
      "execution_count": 103,
      "outputs": []
    },
    {
      "cell_type": "code",
      "metadata": {
        "colab": {
          "base_uri": "https://localhost:8080/"
        },
        "id": "GmZ2CmLn8-u8",
        "outputId": "3e1cb759-574f-40e5-fc3e-2e3aeee883e8"
      },
      "source": [
        "num_words"
      ],
      "execution_count": 104,
      "outputs": [
        {
          "output_type": "execute_result",
          "data": {
            "text/plain": [
              "36"
            ]
          },
          "metadata": {
            "tags": []
          },
          "execution_count": 104
        }
      ]
    },
    {
      "cell_type": "code",
      "metadata": {
        "colab": {
          "base_uri": "https://localhost:8080/"
        },
        "id": "0gHeDbgJ9BpZ",
        "outputId": "d78b5a8d-0bb5-413e-a924-4ba1789ab069"
      },
      "source": [
        "num_tags"
      ],
      "execution_count": 105,
      "outputs": [
        {
          "output_type": "execute_result",
          "data": {
            "text/plain": [
              "12"
            ]
          },
          "metadata": {
            "tags": []
          },
          "execution_count": 105
        }
      ]
    },
    {
      "cell_type": "code",
      "metadata": {
        "colab": {
          "base_uri": "https://localhost:8080/"
        },
        "id": "bqgNXMpF9YyM",
        "outputId": "a1604ece-030d-45f7-a50c-2bf7eae38d75"
      },
      "source": [
        "# encode X\n",
        "word_tokenizer = Tokenizer()              # instantiate tokeniser\n",
        "word_tokenizer.fit_on_texts(df_text)            # fit tokeniser on data\n",
        "# use the tokeniser to encode input sequence\n",
        "X_encoded = word_tokenizer.texts_to_sequences(df_text)  \n",
        "# encode Y\n",
        "tag_tokenizer = Tokenizer()\n",
        "tag_tokenizer.fit_on_texts(df_tag)\n",
        "Y_encoded = tag_tokenizer.texts_to_sequences(df_tag)\n",
        "# look at first encoded data point\n",
        "print(\"** Raw data point **\", \"\\n\", \"-\"*100, \"\\n\")\n",
        "print('X: ', df_text[0], '\\n')\n",
        "print('Y: ', df_tag[0], '\\n')\n",
        "print()\n",
        "print(\"** Encoded data point **\", \"\\n\", \"-\"*100, \"\\n\")\n",
        "print('X: ', X_encoded[0], '\\n')\n",
        "print('Y: ', Y_encoded[0], '\\n')"
      ],
      "execution_count": 106,
      "outputs": [
        {
          "output_type": "stream",
          "text": [
            "** Raw data point ** \n",
            " ---------------------------------------------------------------------------------------------------- \n",
            "\n",
            "X:  ares expand name for response \n",
            "\n",
            "Y:  PRE V N P N \n",
            "\n",
            "\n",
            "** Encoded data point ** \n",
            " ---------------------------------------------------------------------------------------------------- \n",
            "\n",
            "X:  [352, 353, 7, 114, 49] \n",
            "\n",
            "Y:  [5, 3, 2, 6, 2] \n",
            "\n"
          ],
          "name": "stdout"
        }
      ]
    },
    {
      "cell_type": "code",
      "metadata": {
        "id": "nfTReWquBTVj"
      },
      "source": [
        "import tensorflow as tf"
      ],
      "execution_count": 107,
      "outputs": []
    },
    {
      "cell_type": "code",
      "metadata": {
        "id": "CAx_ftZa902D"
      },
      "source": [
        "MAX_SEQ_LENGTH = 100\n",
        "X_padded= tf.keras.preprocessing.sequence.pad_sequences(\n",
        "    X_encoded, maxlen=MAX_SEQ_LENGTH, padding='pre',\n",
        "    truncating='post'\n",
        ")\n",
        "Y_padded= tf.keras.preprocessing.sequence.pad_sequences(\n",
        "    Y_encoded, maxlen=MAX_SEQ_LENGTH, padding='pre',\n",
        "    truncating='post'\n",
        ")\n",
        "#X_padded = tf.keras.preprocessing.sequence.pad_sequences(X_encoded, maxlen=MAX_SEQ_LENGTH, padding=”pre”, truncating=”post”)\n",
        "#Y_padded = tf.keras.preprocessing.sequence.pad_sequences(Y_encoded, maxlen=MAX_SEQ_LENGTH, padding=”pre”, truncating=”post”)"
      ],
      "execution_count": 108,
      "outputs": []
    },
    {
      "cell_type": "code",
      "metadata": {
        "colab": {
          "base_uri": "https://localhost:8080/"
        },
        "id": "IpmQeVfmE26g",
        "outputId": "52eba14e-6246-4bc2-fcba-1c927174036c"
      },
      "source": [
        "print(X_padded[0], \"\\n\"*3)\n",
        "print(Y_padded[0])"
      ],
      "execution_count": 109,
      "outputs": [
        {
          "output_type": "stream",
          "text": [
            "[  0   0   0   0   0   0   0   0   0   0   0   0   0   0   0   0   0   0\n",
            "   0   0   0   0   0   0   0   0   0   0   0   0   0   0   0   0   0   0\n",
            "   0   0   0   0   0   0   0   0   0   0   0   0   0   0   0   0   0   0\n",
            "   0   0   0   0   0   0   0   0   0   0   0   0   0   0   0   0   0   0\n",
            "   0   0   0   0   0   0   0   0   0   0   0   0   0   0   0   0   0   0\n",
            "   0   0   0   0   0 352 353   7 114  49] \n",
            "\n",
            "\n",
            "\n",
            "[0 0 0 0 0 0 0 0 0 0 0 0 0 0 0 0 0 0 0 0 0 0 0 0 0 0 0 0 0 0 0 0 0 0 0 0 0\n",
            " 0 0 0 0 0 0 0 0 0 0 0 0 0 0 0 0 0 0 0 0 0 0 0 0 0 0 0 0 0 0 0 0 0 0 0 0 0\n",
            " 0 0 0 0 0 0 0 0 0 0 0 0 0 0 0 0 0 0 0 0 0 5 3 2 6 2]\n"
          ],
          "name": "stdout"
        }
      ]
    },
    {
      "cell_type": "code",
      "metadata": {
        "id": "ENUPHxC3WHMS"
      },
      "source": [
        "X, Y = X_padded, Y_padded"
      ],
      "execution_count": 110,
      "outputs": []
    },
    {
      "cell_type": "code",
      "metadata": {
        "id": "U8Cf3GH2E8Lh"
      },
      "source": [
        "path = \"/content/drive/MyDrive/Data/GoogleNews-vectors-negative300.bin\"\n",
        "# load word2vec using the following function present in the gensim library\n",
        "word2vec = gensim.models.KeyedVectors.load_word2vec_format(path, binary=True)\n",
        "# assign word vectors from word2vec model\n",
        "# each word in word2vec model is represented using a 300 dimensional vector\n",
        "EMBEDDING_SIZE  = 300  \n",
        "VOCABULARY_SIZE = len(word_tokenizer.word_index) + 1\n",
        "# create an empty embedding matix\n",
        "embedding_weights = np.zeros((VOCABULARY_SIZE, EMBEDDING_SIZE))\n",
        "# create a word to index dictionary mapping\n",
        "word2id = word_tokenizer.word_index\n",
        "# copy vectors from word2vec model to the words present in corpus\n",
        "for word, index in word2id.items():\n",
        "    try:\n",
        "        embedding_weights[index, :] = word2vec[word]\n",
        "    except KeyError:\n",
        "        pass"
      ],
      "execution_count": 111,
      "outputs": []
    },
    {
      "cell_type": "code",
      "metadata": {
        "id": "G2VlYE3nNBCE"
      },
      "source": [
        "Y = to_categorical(Y)"
      ],
      "execution_count": 112,
      "outputs": []
    },
    {
      "cell_type": "code",
      "metadata": {
        "colab": {
          "base_uri": "https://localhost:8080/"
        },
        "id": "5zEgkI6FO-9E",
        "outputId": "5dda3d09-f16d-4a4d-c1b7-ffb00e742ccf"
      },
      "source": [
        "Y.shape"
      ],
      "execution_count": 113,
      "outputs": [
        {
          "output_type": "execute_result",
          "data": {
            "text/plain": [
              "(1335, 100, 11)"
            ]
          },
          "metadata": {
            "tags": []
          },
          "execution_count": 113
        }
      ]
    },
    {
      "cell_type": "code",
      "metadata": {
        "id": "I38yOl1VX9Vs"
      },
      "source": [
        "# split entire data into training and testing sets\n",
        "TEST_SIZE = 0.15\n",
        "X_train, X_test, Y_train, Y_test = train_test_split(X, Y, test_size=TEST_SIZE, random_state=4)"
      ],
      "execution_count": 114,
      "outputs": []
    },
    {
      "cell_type": "code",
      "metadata": {
        "id": "Qu0ikfdwYA2y"
      },
      "source": [
        "# split training data into training and validation sets\n",
        "VALID_SIZE = 0.15\n",
        "X_train, X_validation, Y_train, Y_validation = train_test_split(X_train, Y_train, test_size=VALID_SIZE, random_state=4)"
      ],
      "execution_count": 115,
      "outputs": []
    },
    {
      "cell_type": "code",
      "metadata": {
        "colab": {
          "base_uri": "https://localhost:8080/"
        },
        "id": "VIP2ZrB9YExQ",
        "outputId": "466b9a5a-727f-4f59-e07b-5c2e40c83732"
      },
      "source": [
        "# print number of samples in each set\n",
        "print(\"TRAINING DATA\")\n",
        "print('Shape of input sequences: {}'.format(X_train.shape))\n",
        "print('Shape of output sequences: {}'.format(Y_train.shape))\n",
        "print(\"-\"*50)\n",
        "print(\"VALIDATION DATA\")\n",
        "print('Shape of input sequences: {}'.format(X_validation.shape))\n",
        "print('Shape of output sequences: {}'.format(Y_validation.shape))\n",
        "print(\"-\"*50)\n",
        "print(\"TESTING DATA\")\n",
        "print('Shape of input sequences: {}'.format(X_test.shape))\n",
        "print('Shape of output sequences: {}'.format(Y_test.shape))"
      ],
      "execution_count": 116,
      "outputs": [
        {
          "output_type": "stream",
          "text": [
            "TRAINING DATA\n",
            "Shape of input sequences: (963, 100)\n",
            "Shape of output sequences: (963, 100, 11)\n",
            "--------------------------------------------------\n",
            "VALIDATION DATA\n",
            "Shape of input sequences: (171, 100)\n",
            "Shape of output sequences: (171, 100, 11)\n",
            "--------------------------------------------------\n",
            "TESTING DATA\n",
            "Shape of input sequences: (201, 100)\n",
            "Shape of output sequences: (201, 100, 11)\n"
          ],
          "name": "stdout"
        }
      ]
    },
    {
      "cell_type": "code",
      "metadata": {
        "id": "ZZuZIYdzUJ0M"
      },
      "source": [
        "# total number of tags\n",
        "NUM_CLASSES = Y.shape[2]"
      ],
      "execution_count": 117,
      "outputs": []
    },
    {
      "cell_type": "code",
      "metadata": {
        "id": "JohTIsDtOKEO"
      },
      "source": [
        "\n",
        "# create architecture\n",
        "\n",
        "rnn_model = Sequential()\n",
        "\n",
        "# create embedding layer - usually the first layer in text problems\n",
        "rnn_model.add(Embedding(input_dim     =  VOCABULARY_SIZE,         # vocabulary size - number of unique words in data\n",
        "                        output_dim    =  EMBEDDING_SIZE,          # length of vector with which each word is represented\n",
        "                        input_length  =  MAX_SEQ_LENGTH,          # length of input sequence\n",
        "                        trainable     =  False                    # False - don't update the embeddings\n",
        "))\n",
        "\n",
        "# add an RNN layer which contains 64 RNN cells\n",
        "rnn_model.add(SimpleRNN(64, \n",
        "              return_sequences=True  # True - return whole sequence; False - return single output of the end of the sequence\n",
        "))\n",
        "\n",
        "# add time distributed (output at each sequence) layer\n",
        "rnn_model.add(TimeDistributed(Dense(NUM_CLASSES, activation='softmax')))"
      ],
      "execution_count": 118,
      "outputs": []
    },
    {
      "cell_type": "code",
      "metadata": {
        "id": "ZklBYexoPgBD"
      },
      "source": [
        "rnn_model.compile(loss      =  'categorical_crossentropy',\n",
        "                  optimizer =  'adam',\n",
        "                  metrics   =  ['acc'])\n",
        "\n"
      ],
      "execution_count": 119,
      "outputs": []
    },
    {
      "cell_type": "code",
      "metadata": {
        "colab": {
          "base_uri": "https://localhost:8080/"
        },
        "id": "U6L8sSV5RFtV",
        "outputId": "c661ae68-d7a6-4277-c7d3-a38798e33790"
      },
      "source": [
        "# check summary of the model\n",
        "rnn_model.summary()"
      ],
      "execution_count": 120,
      "outputs": [
        {
          "output_type": "stream",
          "text": [
            "Model: \"sequential_3\"\n",
            "_________________________________________________________________\n",
            "Layer (type)                 Output Shape              Param #   \n",
            "=================================================================\n",
            "embedding_5 (Embedding)      (None, 100, 300)          474900    \n",
            "_________________________________________________________________\n",
            "simple_rnn_1 (SimpleRNN)     (None, 100, 64)           23360     \n",
            "_________________________________________________________________\n",
            "time_distributed_3 (TimeDist (None, 100, 11)           715       \n",
            "=================================================================\n",
            "Total params: 498,975\n",
            "Trainable params: 24,075\n",
            "Non-trainable params: 474,900\n",
            "_________________________________________________________________\n"
          ],
          "name": "stdout"
        }
      ]
    },
    {
      "cell_type": "code",
      "metadata": {
        "colab": {
          "base_uri": "https://localhost:8080/"
        },
        "id": "1lEA4780Yjp8",
        "outputId": "26fa4970-5149-4eda-a60d-d7249c6d0ea8"
      },
      "source": [
        "rnn_training = rnn_model.fit(X_train, Y_train, batch_size=128, epochs=10, validation_data=(X_validation, Y_validation))"
      ],
      "execution_count": 121,
      "outputs": [
        {
          "output_type": "stream",
          "text": [
            "Epoch 1/10\n",
            "8/8 [==============================] - 2s 139ms/step - loss: 1.6945 - acc: 0.9139 - val_loss: 0.6657 - val_acc: 0.9727\n",
            "Epoch 2/10\n",
            "8/8 [==============================] - 1s 80ms/step - loss: 0.5172 - acc: 0.9738 - val_loss: 0.2557 - val_acc: 0.9727\n",
            "Epoch 3/10\n",
            "8/8 [==============================] - 1s 82ms/step - loss: 0.2342 - acc: 0.9733 - val_loss: 0.2057 - val_acc: 0.9727\n",
            "Epoch 4/10\n",
            "8/8 [==============================] - 1s 84ms/step - loss: 0.2013 - acc: 0.9730 - val_loss: 0.1987 - val_acc: 0.9727\n",
            "Epoch 5/10\n",
            "8/8 [==============================] - 1s 88ms/step - loss: 0.1939 - acc: 0.9733 - val_loss: 0.1932 - val_acc: 0.9727\n",
            "Epoch 6/10\n",
            "8/8 [==============================] - 1s 85ms/step - loss: 0.1874 - acc: 0.9734 - val_loss: 0.1851 - val_acc: 0.9727\n",
            "Epoch 7/10\n",
            "8/8 [==============================] - 1s 89ms/step - loss: 0.1757 - acc: 0.9739 - val_loss: 0.1756 - val_acc: 0.9727\n",
            "Epoch 8/10\n",
            "8/8 [==============================] - 1s 87ms/step - loss: 0.1690 - acc: 0.9735 - val_loss: 0.1697 - val_acc: 0.9727\n",
            "Epoch 9/10\n",
            "8/8 [==============================] - 1s 88ms/step - loss: 0.1638 - acc: 0.9735 - val_loss: 0.1653 - val_acc: 0.9727\n",
            "Epoch 10/10\n",
            "8/8 [==============================] - 1s 82ms/step - loss: 0.1583 - acc: 0.9737 - val_loss: 0.1603 - val_acc: 0.9727\n"
          ],
          "name": "stdout"
        }
      ]
    },
    {
      "cell_type": "code",
      "metadata": {
        "colab": {
          "base_uri": "https://localhost:8080/",
          "height": 295
        },
        "id": "dvbHROxbYrTA",
        "outputId": "8fa2141f-3ee1-4efd-f884-c32eba7e3d39"
      },
      "source": [
        "# visualise training history\n",
        "plt.plot(rnn_training.history['acc'])\n",
        "plt.plot(rnn_training.history['val_acc'])\n",
        "plt.title('model accuracy')\n",
        "plt.ylabel('accuracy')\n",
        "plt.xlabel('epoch')\n",
        "plt.legend(['train', 'test'], loc=\"lower right\")\n",
        "plt.show()"
      ],
      "execution_count": 122,
      "outputs": [
        {
          "output_type": "display_data",
          "data": {
            "image/png": "[encoded data removed]",
            "text/plain": [
              "<Figure size 432x288 with 1 Axes>"
            ]
          },
          "metadata": {
            "tags": [],
            "needs_background": "light"
          }
        }
      ]
    },
    {
      "cell_type": "code",
      "metadata": {
        "id": "sDH7a8CBY4sA"
      },
      "source": [
        "# create architecture\n",
        "\n",
        "rnn_model = Sequential()\n",
        "\n",
        "# create embedding layer - usually the first layer in text problems\n",
        "rnn_model.add(Embedding(input_dim     =  VOCABULARY_SIZE,         # vocabulary size - number of unique words in data\n",
        "                        output_dim    =  EMBEDDING_SIZE,          # length of vector with which each word is represented\n",
        "                        input_length  =  MAX_SEQ_LENGTH,          # length of input sequence\n",
        "                        trainable     =  True                     # True - update the embeddings while training\n",
        "))\n",
        "\n",
        "# add an RNN layer which contains 64 RNN cells\n",
        "rnn_model.add(SimpleRNN(64, \n",
        "              return_sequences=True  # True - return whole sequence; False - return single output of the end of the sequence\n",
        "))\n",
        "\n",
        "# add time distributed (output at each sequence) layer\n",
        "rnn_model.add(TimeDistributed(Dense(NUM_CLASSES, activation='softmax')))"
      ],
      "execution_count": 123,
      "outputs": []
    },
    {
      "cell_type": "code",
      "metadata": {
        "id": "Mk3UsPZoY6Ts"
      },
      "source": [
        "rnn_model.compile(loss      =  'categorical_crossentropy',\n",
        "                  optimizer =  'adam',\n",
        "                  metrics   =  ['acc'])"
      ],
      "execution_count": 124,
      "outputs": []
    },
    {
      "cell_type": "code",
      "metadata": {
        "colab": {
          "base_uri": "https://localhost:8080/"
        },
        "id": "PM2dReiHY-GW",
        "outputId": "438ffb98-2778-42d9-c03e-a64b6a7352c4"
      },
      "source": [
        "# check summary of the model\n",
        "rnn_model.summary()"
      ],
      "execution_count": 125,
      "outputs": [
        {
          "output_type": "stream",
          "text": [
            "Model: \"sequential_4\"\n",
            "_________________________________________________________________\n",
            "Layer (type)                 Output Shape              Param #   \n",
            "=================================================================\n",
            "embedding_6 (Embedding)      (None, 100, 300)          474900    \n",
            "_________________________________________________________________\n",
            "simple_rnn_2 (SimpleRNN)     (None, 100, 64)           23360     \n",
            "_________________________________________________________________\n",
            "time_distributed_4 (TimeDist (None, 100, 11)           715       \n",
            "=================================================================\n",
            "Total params: 498,975\n",
            "Trainable params: 498,975\n",
            "Non-trainable params: 0\n",
            "_________________________________________________________________\n"
          ],
          "name": "stdout"
        }
      ]
    },
    {
      "cell_type": "code",
      "metadata": {
        "colab": {
          "base_uri": "https://localhost:8080/"
        },
        "id": "OyTe3bv1ZFes",
        "outputId": "cc2b7bb6-1254-4874-8bbe-d6c8b61090d0"
      },
      "source": [
        "rnn_training = rnn_model.fit(X_train, Y_train, batch_size=128, epochs=10, validation_data=(X_validation, Y_validation))"
      ],
      "execution_count": 126,
      "outputs": [
        {
          "output_type": "stream",
          "text": [
            "Epoch 1/10\n",
            "8/8 [==============================] - 2s 154ms/step - loss: 1.9568 - acc: 0.6343 - val_loss: 0.7805 - val_acc: 0.9727\n",
            "Epoch 2/10\n",
            "8/8 [==============================] - 1s 111ms/step - loss: 0.6028 - acc: 0.9733 - val_loss: 0.2776 - val_acc: 0.9727\n",
            "Epoch 3/10\n",
            "8/8 [==============================] - 1s 110ms/step - loss: 0.2475 - acc: 0.9735 - val_loss: 0.2070 - val_acc: 0.9727\n",
            "Epoch 4/10\n",
            "8/8 [==============================] - 1s 97ms/step - loss: 0.1958 - acc: 0.9736 - val_loss: 0.1914 - val_acc: 0.9727\n",
            "Epoch 5/10\n",
            "8/8 [==============================] - 1s 99ms/step - loss: 0.1819 - acc: 0.9735 - val_loss: 0.1812 - val_acc: 0.9727\n",
            "Epoch 6/10\n",
            "8/8 [==============================] - 1s 106ms/step - loss: 0.1708 - acc: 0.9735 - val_loss: 0.1714 - val_acc: 0.9727\n",
            "Epoch 7/10\n",
            "8/8 [==============================] - 1s 111ms/step - loss: 0.1609 - acc: 0.9733 - val_loss: 0.1623 - val_acc: 0.9727\n",
            "Epoch 8/10\n",
            "8/8 [==============================] - 1s 111ms/step - loss: 0.1481 - acc: 0.9739 - val_loss: 0.1541 - val_acc: 0.9727\n",
            "Epoch 9/10\n",
            "8/8 [==============================] - 1s 114ms/step - loss: 0.1392 - acc: 0.9736 - val_loss: 0.1446 - val_acc: 0.9727\n",
            "Epoch 10/10\n",
            "8/8 [==============================] - 1s 109ms/step - loss: 0.1289 - acc: 0.9732 - val_loss: 0.1319 - val_acc: 0.9728\n"
          ],
          "name": "stdout"
        }
      ]
    },
    {
      "cell_type": "code",
      "metadata": {
        "colab": {
          "base_uri": "https://localhost:8080/",
          "height": 295
        },
        "id": "WKGuBrhdZJs0",
        "outputId": "43feec43-7608-42e3-fef1-6e22b5ba8a2f"
      },
      "source": [
        "# visualise training history\n",
        "plt.plot(rnn_training.history['acc'])\n",
        "plt.plot(rnn_training.history['val_acc'])\n",
        "plt.title('model accuracy')\n",
        "plt.ylabel('accuracy')\n",
        "plt.xlabel('epoch')\n",
        "plt.legend(['train', 'test'], loc=\"lower right\")\n",
        "plt.show()"
      ],
      "execution_count": 127,
      "outputs": [
        {
          "output_type": "display_data",
          "data": {
            "image/png": "[encoded data removed]",
            "text/plain": [
              "<Figure size 432x288 with 1 Axes>"
            ]
          },
          "metadata": {
            "tags": [],
            "needs_background": "light"
          }
        }
      ]
    },
    {
      "cell_type": "code",
      "metadata": {
        "id": "9QPnfFCYZN6G"
      },
      "source": [
        "# create architecture\n",
        "\n",
        "rnn_model = Sequential()\n",
        "\n",
        "# create embedding layer - usually the first layer in text problems\n",
        "rnn_model.add(Embedding(input_dim     =  VOCABULARY_SIZE,         # vocabulary size - number of unique words in data\n",
        "                        output_dim    =  EMBEDDING_SIZE,          # length of vector with which each word is represented\n",
        "                        input_length  =  MAX_SEQ_LENGTH,          # length of input sequence\n",
        "                        weights       = [embedding_weights],      # word embedding matrix\n",
        "                        trainable     =  True                     # True - update the embeddings while training\n",
        "))\n",
        "\n",
        "# add an RNN layer which contains 64 RNN cells\n",
        "rnn_model.add(SimpleRNN(64, \n",
        "              return_sequences=True  # True - return whole sequence; False - return single output of the end of the sequence\n",
        "))\n",
        "\n",
        "# add time distributed (output at each sequence) layer\n",
        "rnn_model.add(TimeDistributed(Dense(NUM_CLASSES, activation='softmax')))"
      ],
      "execution_count": 128,
      "outputs": []
    },
    {
      "cell_type": "code",
      "metadata": {
        "id": "3hJh8IcwZUwE"
      },
      "source": [
        "rnn_model.compile(loss      =  'categorical_crossentropy',\n",
        "                  optimizer =  'adam',\n",
        "                  metrics   =  ['acc'])"
      ],
      "execution_count": 129,
      "outputs": []
    },
    {
      "cell_type": "code",
      "metadata": {
        "colab": {
          "base_uri": "https://localhost:8080/"
        },
        "id": "9BOHZjRnZYSw",
        "outputId": "bad85c79-b0f5-422d-aa2e-e03c84d59bae"
      },
      "source": [
        "# check summary of the model\n",
        "rnn_model.summary()"
      ],
      "execution_count": 130,
      "outputs": [
        {
          "output_type": "stream",
          "text": [
            "Model: \"sequential_5\"\n",
            "_________________________________________________________________\n",
            "Layer (type)                 Output Shape              Param #   \n",
            "=================================================================\n",
            "embedding_7 (Embedding)      (None, 100, 300)          474900    \n",
            "_________________________________________________________________\n",
            "simple_rnn_3 (SimpleRNN)     (None, 100, 64)           23360     \n",
            "_________________________________________________________________\n",
            "time_distributed_5 (TimeDist (None, 100, 11)           715       \n",
            "=================================================================\n",
            "Total params: 498,975\n",
            "Trainable params: 498,975\n",
            "Non-trainable params: 0\n",
            "_________________________________________________________________\n"
          ],
          "name": "stdout"
        }
      ]
    },
    {
      "cell_type": "code",
      "metadata": {
        "colab": {
          "base_uri": "https://localhost:8080/"
        },
        "id": "iRKZnI0ZZcaS",
        "outputId": "0b9b12ed-8d30-4744-f2ee-74ec7e6721f1"
      },
      "source": [
        "rnn_training = rnn_model.fit(X_train, Y_train, batch_size=128, epochs=10, validation_data=(X_validation, Y_validation))"
      ],
      "execution_count": 131,
      "outputs": [
        {
          "output_type": "stream",
          "text": [
            "Epoch 1/10\n",
            "8/8 [==============================] - 2s 142ms/step - loss: 2.0315 - acc: 0.9751 - val_loss: 1.0285 - val_acc: 0.9727\n",
            "Epoch 2/10\n",
            "8/8 [==============================] - 1s 113ms/step - loss: 0.8379 - acc: 0.9739 - val_loss: 0.4196 - val_acc: 0.9727\n",
            "Epoch 3/10\n",
            "8/8 [==============================] - 1s 113ms/step - loss: 0.3613 - acc: 0.9734 - val_loss: 0.2523 - val_acc: 0.9727\n",
            "Epoch 4/10\n",
            "8/8 [==============================] - 1s 111ms/step - loss: 0.2297 - acc: 0.9735 - val_loss: 0.1974 - val_acc: 0.9727\n",
            "Epoch 5/10\n",
            "8/8 [==============================] - 1s 99ms/step - loss: 0.1789 - acc: 0.9737 - val_loss: 0.1635 - val_acc: 0.9727\n",
            "Epoch 6/10\n",
            "8/8 [==============================] - 1s 97ms/step - loss: 0.1435 - acc: 0.9743 - val_loss: 0.1330 - val_acc: 0.9739\n",
            "Epoch 7/10\n",
            "8/8 [==============================] - 1s 109ms/step - loss: 0.1165 - acc: 0.9771 - val_loss: 0.1113 - val_acc: 0.9773\n",
            "Epoch 8/10\n",
            "8/8 [==============================] - 1s 106ms/step - loss: 0.0957 - acc: 0.9815 - val_loss: 0.0961 - val_acc: 0.9796\n",
            "Epoch 9/10\n",
            "8/8 [==============================] - 1s 111ms/step - loss: 0.0813 - acc: 0.9837 - val_loss: 0.0852 - val_acc: 0.9806\n",
            "Epoch 10/10\n",
            "8/8 [==============================] - 1s 112ms/step - loss: 0.0688 - acc: 0.9851 - val_loss: 0.0773 - val_acc: 0.9812\n"
          ],
          "name": "stdout"
        }
      ]
    },
    {
      "cell_type": "code",
      "metadata": {
        "colab": {
          "base_uri": "https://localhost:8080/",
          "height": 295
        },
        "id": "Io-gnc5EZi7l",
        "outputId": "9c5678ee-a5b0-467d-8a60-277fe00805eb"
      },
      "source": [
        "# visualise training history\n",
        "plt.plot(rnn_training.history['acc'])\n",
        "plt.plot(rnn_training.history['val_acc'])\n",
        "plt.title('model accuracy')\n",
        "plt.ylabel('accuracy')\n",
        "plt.xlabel('epoch')\n",
        "plt.legend(['train', 'test'], loc=\"lower right\")\n",
        "plt.show()"
      ],
      "execution_count": 132,
      "outputs": [
        {
          "output_type": "display_data",
          "data": {
            "image/png": "[encoded data removed]",
            "text/plain": [
              "<Figure size 432x288 with 1 Axes>"
            ]
          },
          "metadata": {
            "tags": [],
            "needs_background": "light"
          }
        }
      ]
    },
    {
      "cell_type": "code",
      "metadata": {
        "id": "f0obhdQ8Ztt2"
      },
      "source": [
        "# create architecture\n",
        "\n",
        "lstm_model = Sequential()\n",
        "lstm_model.add(Embedding(input_dim     = VOCABULARY_SIZE,         # vocabulary size - number of unique words in data\n",
        "                         output_dim    = EMBEDDING_SIZE,          # length of vector with which each word is represented\n",
        "                         input_length  = MAX_SEQ_LENGTH,          # length of input sequence\n",
        "                         weights       = [embedding_weights],     # word embedding matrix\n",
        "                         trainable     = True                     # True - update embeddings_weight matrix\n",
        "))\n",
        "lstm_model.add(LSTM(64, return_sequences=True))\n",
        "lstm_model.add(TimeDistributed(Dense(NUM_CLASSES, activation='softmax')))"
      ],
      "execution_count": 133,
      "outputs": []
    },
    {
      "cell_type": "code",
      "metadata": {
        "id": "cpBYoIaEZwEO"
      },
      "source": [
        "lstm_model.compile(loss      =  'categorical_crossentropy',\n",
        "                   optimizer =  'adam',\n",
        "                   metrics   =  ['acc'])"
      ],
      "execution_count": 134,
      "outputs": []
    },
    {
      "cell_type": "code",
      "metadata": {
        "colab": {
          "base_uri": "https://localhost:8080/"
        },
        "id": "Ut1nAvQxZzvv",
        "outputId": "6dc8b18a-badb-4cf6-8a6d-40ac8352889c"
      },
      "source": [
        "# check summary of the model\n",
        "lstm_model.summary()"
      ],
      "execution_count": 135,
      "outputs": [
        {
          "output_type": "stream",
          "text": [
            "Model: \"sequential_6\"\n",
            "_________________________________________________________________\n",
            "Layer (type)                 Output Shape              Param #   \n",
            "=================================================================\n",
            "embedding_8 (Embedding)      (None, 100, 300)          474900    \n",
            "_________________________________________________________________\n",
            "lstm_4 (LSTM)                (None, 100, 64)           93440     \n",
            "_________________________________________________________________\n",
            "time_distributed_6 (TimeDist (None, 100, 11)           715       \n",
            "=================================================================\n",
            "Total params: 569,055\n",
            "Trainable params: 569,055\n",
            "Non-trainable params: 0\n",
            "_________________________________________________________________\n"
          ],
          "name": "stdout"
        }
      ]
    },
    {
      "cell_type": "code",
      "metadata": {
        "colab": {
          "base_uri": "https://localhost:8080/"
        },
        "id": "7OHEUu7GZ20i",
        "outputId": "b77a4d15-70f4-4168-daba-54c0956129de"
      },
      "source": [
        "lstm_training = lstm_model.fit(X_train, Y_train, batch_size=128, epochs=10, validation_data=(X_validation, Y_validation))"
      ],
      "execution_count": 136,
      "outputs": [
        {
          "output_type": "stream",
          "text": [
            "Epoch 1/10\n",
            "8/8 [==============================] - 5s 362ms/step - loss: 2.3204 - acc: 0.9756 - val_loss: 1.7968 - val_acc: 0.9727\n",
            "Epoch 2/10\n",
            "8/8 [==============================] - 2s 289ms/step - loss: 1.3212 - acc: 0.9735 - val_loss: 0.2973 - val_acc: 0.9727\n",
            "Epoch 3/10\n",
            "8/8 [==============================] - 2s 285ms/step - loss: 0.2682 - acc: 0.9734 - val_loss: 0.2335 - val_acc: 0.9727\n",
            "Epoch 4/10\n",
            "8/8 [==============================] - 2s 272ms/step - loss: 0.2250 - acc: 0.9731 - val_loss: 0.2133 - val_acc: 0.9727\n",
            "Epoch 5/10\n",
            "8/8 [==============================] - 2s 269ms/step - loss: 0.2011 - acc: 0.9736 - val_loss: 0.1912 - val_acc: 0.9727\n",
            "Epoch 6/10\n",
            "8/8 [==============================] - 2s 283ms/step - loss: 0.1802 - acc: 0.9733 - val_loss: 0.1714 - val_acc: 0.9727\n",
            "Epoch 7/10\n",
            "8/8 [==============================] - 2s 288ms/step - loss: 0.1595 - acc: 0.9736 - val_loss: 0.1574 - val_acc: 0.9727\n",
            "Epoch 8/10\n",
            "8/8 [==============================] - 2s 287ms/step - loss: 0.1461 - acc: 0.9735 - val_loss: 0.1456 - val_acc: 0.9727\n",
            "Epoch 9/10\n",
            "8/8 [==============================] - 2s 280ms/step - loss: 0.1335 - acc: 0.9735 - val_loss: 0.1331 - val_acc: 0.9727\n",
            "Epoch 10/10\n",
            "8/8 [==============================] - 2s 288ms/step - loss: 0.1193 - acc: 0.9735 - val_loss: 0.1213 - val_acc: 0.9727\n"
          ],
          "name": "stdout"
        }
      ]
    },
    {
      "cell_type": "code",
      "metadata": {
        "colab": {
          "base_uri": "https://localhost:8080/",
          "height": 295
        },
        "id": "2EZOffEBZ9mB",
        "outputId": "9076c888-efb9-430a-8f87-e1c0617b0d7a"
      },
      "source": [
        "plt.plot(lstm_training.history['acc'])\n",
        "plt.plot(lstm_training.history['val_acc'])\n",
        "plt.title('model accuracy')\n",
        "plt.ylabel('accuracy')\n",
        "plt.xlabel('epoch')\n",
        "plt.legend(['train', 'test'], loc=\"lower right\")\n",
        "plt.show()"
      ],
      "execution_count": 137,
      "outputs": [
        {
          "output_type": "display_data",
          "data": {
            "image/png": "[encoded data removed]",
            "text/plain": [
              "<Figure size 432x288 with 1 Axes>"
            ]
          },
          "metadata": {
            "tags": [],
            "needs_background": "light"
          }
        }
      ]
    },
    {
      "cell_type": "code",
      "metadata": {
        "id": "a1e2D5_vaHBF"
      },
      "source": [
        "# create architecture\n",
        "\n",
        "gru_model = Sequential()\n",
        "gru_model.add(Embedding(input_dim     = VOCABULARY_SIZE,\n",
        "                        output_dim    = EMBEDDING_SIZE,\n",
        "                        input_length  = MAX_SEQ_LENGTH,\n",
        "                        weights       = [embedding_weights],\n",
        "                        trainable     = True\n",
        "))\n",
        "gru_model.add(GRU(64, return_sequences=True))\n",
        "gru_model.add(TimeDistributed(Dense(NUM_CLASSES, activation='softmax')))"
      ],
      "execution_count": 138,
      "outputs": []
    },
    {
      "cell_type": "code",
      "metadata": {
        "id": "KrNb5WrjaIrV"
      },
      "source": [
        "gru_model.compile(loss='categorical_crossentropy',\n",
        "              optimizer='adam',\n",
        "              metrics=['acc'])"
      ],
      "execution_count": 139,
      "outputs": []
    },
    {
      "cell_type": "code",
      "metadata": {
        "colab": {
          "base_uri": "https://localhost:8080/"
        },
        "id": "1Yx9YJsCaMGx",
        "outputId": "c2af2ba2-4779-432a-c647-4e0da4e8cb7b"
      },
      "source": [
        "# check summary of model\n",
        "gru_model.summary()"
      ],
      "execution_count": 140,
      "outputs": [
        {
          "output_type": "stream",
          "text": [
            "Model: \"sequential_7\"\n",
            "_________________________________________________________________\n",
            "Layer (type)                 Output Shape              Param #   \n",
            "=================================================================\n",
            "embedding_9 (Embedding)      (None, 100, 300)          474900    \n",
            "_________________________________________________________________\n",
            "gru (GRU)                    (None, 100, 64)           70272     \n",
            "_________________________________________________________________\n",
            "time_distributed_7 (TimeDist (None, 100, 11)           715       \n",
            "=================================================================\n",
            "Total params: 545,887\n",
            "Trainable params: 545,887\n",
            "Non-trainable params: 0\n",
            "_________________________________________________________________\n"
          ],
          "name": "stdout"
        }
      ]
    },
    {
      "cell_type": "code",
      "metadata": {
        "colab": {
          "base_uri": "https://localhost:8080/"
        },
        "id": "oJSxNCVyaRNv",
        "outputId": "9646300c-da73-4c71-9b8c-134533f90a83"
      },
      "source": [
        "gru_training = gru_model.fit(X_train, Y_train, batch_size=128, epochs=10, validation_data=(X_validation, Y_validation))"
      ],
      "execution_count": 141,
      "outputs": [
        {
          "output_type": "stream",
          "text": [
            "Epoch 1/10\n",
            "8/8 [==============================] - 4s 288ms/step - loss: 2.3166 - acc: 0.9764 - val_loss: 1.9123 - val_acc: 0.9753\n",
            "Epoch 2/10\n",
            "8/8 [==============================] - 2s 242ms/step - loss: 1.6635 - acc: 0.9753 - val_loss: 0.6400 - val_acc: 0.9730\n",
            "Epoch 3/10\n",
            "8/8 [==============================] - 2s 252ms/step - loss: 0.4074 - acc: 0.9739 - val_loss: 0.1704 - val_acc: 0.9727\n",
            "Epoch 4/10\n",
            "8/8 [==============================] - 2s 251ms/step - loss: 0.1689 - acc: 0.9736 - val_loss: 0.1712 - val_acc: 0.9727\n",
            "Epoch 5/10\n",
            "8/8 [==============================] - 2s 250ms/step - loss: 0.1456 - acc: 0.9736 - val_loss: 0.1169 - val_acc: 0.9736\n",
            "Epoch 6/10\n",
            "8/8 [==============================] - 2s 250ms/step - loss: 0.0947 - acc: 0.9756 - val_loss: 0.0847 - val_acc: 0.9764\n",
            "Epoch 7/10\n",
            "8/8 [==============================] - 2s 233ms/step - loss: 0.0697 - acc: 0.9799 - val_loss: 0.0730 - val_acc: 0.9788\n",
            "Epoch 8/10\n",
            "8/8 [==============================] - 2s 245ms/step - loss: 0.0623 - acc: 0.9823 - val_loss: 0.0671 - val_acc: 0.9810\n",
            "Epoch 9/10\n",
            "8/8 [==============================] - 2s 249ms/step - loss: 0.0562 - acc: 0.9850 - val_loss: 0.0627 - val_acc: 0.9821\n",
            "Epoch 10/10\n",
            "8/8 [==============================] - 2s 250ms/step - loss: 0.0521 - acc: 0.9861 - val_loss: 0.0592 - val_acc: 0.9825\n"
          ],
          "name": "stdout"
        }
      ]
    },
    {
      "cell_type": "code",
      "metadata": {
        "colab": {
          "base_uri": "https://localhost:8080/",
          "height": 295
        },
        "id": "zLkNCH5eaViZ",
        "outputId": "9c0d761f-f705-4e28-fa80-e74d5b530c9b"
      },
      "source": [
        "# visualise training history\n",
        "plt.plot(gru_training.history['acc'])\n",
        "plt.plot(gru_training.history['val_acc'])\n",
        "plt.title('model accuracy')\n",
        "plt.ylabel('accuracy')\n",
        "plt.xlabel('epoch')\n",
        "plt.legend(['train', 'test'], loc=\"lower right\")\n",
        "plt.show()"
      ],
      "execution_count": 142,
      "outputs": [
        {
          "output_type": "display_data",
          "data": {
            "image/png": "[encoded data removed]",
            "text/plain": [
              "<Figure size 432x288 with 1 Axes>"
            ]
          },
          "metadata": {
            "tags": [],
            "needs_background": "light"
          }
        }
      ]
    },
    {
      "cell_type": "code",
      "metadata": {
        "id": "oOObrF9wacg6"
      },
      "source": [
        "# create architecture\n",
        "\n",
        "bidirect_model = Sequential()\n",
        "bidirect_model.add(Embedding(input_dim     = VOCABULARY_SIZE,\n",
        "                             output_dim    = EMBEDDING_SIZE,\n",
        "                             input_length  = MAX_SEQ_LENGTH,\n",
        "                             weights       = [embedding_weights],\n",
        "                             trainable     = True\n",
        "))\n",
        "bidirect_model.add(Bidirectional(LSTM(64, return_sequences=True)))\n",
        "bidirect_model.add(TimeDistributed(Dense(NUM_CLASSES, activation='softmax')))"
      ],
      "execution_count": 143,
      "outputs": []
    },
    {
      "cell_type": "code",
      "metadata": {
        "id": "Vz8PgbtFaeHy"
      },
      "source": [
        "bidirect_model.compile(loss='categorical_crossentropy',\n",
        "              optimizer='adam',\n",
        "              metrics=['acc'])"
      ],
      "execution_count": 144,
      "outputs": []
    },
    {
      "cell_type": "code",
      "metadata": {
        "colab": {
          "base_uri": "https://localhost:8080/"
        },
        "id": "v6wWMNdBahoC",
        "outputId": "7cceb262-3302-4fd5-f380-dcd44479857a"
      },
      "source": [
        "# check summary of model\n",
        "bidirect_model.summary()"
      ],
      "execution_count": 145,
      "outputs": [
        {
          "output_type": "stream",
          "text": [
            "Model: \"sequential_8\"\n",
            "_________________________________________________________________\n",
            "Layer (type)                 Output Shape              Param #   \n",
            "=================================================================\n",
            "embedding_10 (Embedding)     (None, 100, 300)          474900    \n",
            "_________________________________________________________________\n",
            "bidirectional (Bidirectional (None, 100, 128)          186880    \n",
            "_________________________________________________________________\n",
            "time_distributed_8 (TimeDist (None, 100, 11)           1419      \n",
            "=================================================================\n",
            "Total params: 663,199\n",
            "Trainable params: 663,199\n",
            "Non-trainable params: 0\n",
            "_________________________________________________________________\n"
          ],
          "name": "stdout"
        }
      ]
    },
    {
      "cell_type": "code",
      "metadata": {
        "colab": {
          "base_uri": "https://localhost:8080/"
        },
        "id": "d7QaSixzalCE",
        "outputId": "ace72f57-9168-4ccc-a267-d93187afec25"
      },
      "source": [
        "bidirect_training = bidirect_model.fit(X_train, Y_train, batch_size=128, epochs=10, validation_data=(X_validation, Y_validation))"
      ],
      "execution_count": 146,
      "outputs": [
        {
          "output_type": "stream",
          "text": [
            "Epoch 1/10\n",
            "8/8 [==============================] - 9s 700ms/step - loss: 2.3037 - acc: 0.7549 - val_loss: 1.6738 - val_acc: 0.9728\n",
            "Epoch 2/10\n",
            "8/8 [==============================] - 5s 603ms/step - loss: 1.1472 - acc: 0.9735 - val_loss: 0.1338 - val_acc: 0.9727\n",
            "Epoch 3/10\n",
            "8/8 [==============================] - 5s 581ms/step - loss: 0.1287 - acc: 0.9742 - val_loss: 0.1316 - val_acc: 0.9727\n",
            "Epoch 4/10\n",
            "8/8 [==============================] - 5s 569ms/step - loss: 0.1236 - acc: 0.9734 - val_loss: 0.1056 - val_acc: 0.9727\n",
            "Epoch 5/10\n",
            "8/8 [==============================] - 5s 577ms/step - loss: 0.0938 - acc: 0.9737 - val_loss: 0.0821 - val_acc: 0.9727\n",
            "Epoch 6/10\n",
            "8/8 [==============================] - 4s 528ms/step - loss: 0.0741 - acc: 0.9735 - val_loss: 0.0705 - val_acc: 0.9731\n",
            "Epoch 7/10\n",
            "8/8 [==============================] - 5s 607ms/step - loss: 0.0649 - acc: 0.9751 - val_loss: 0.0659 - val_acc: 0.9770\n",
            "Epoch 8/10\n",
            "8/8 [==============================] - 5s 583ms/step - loss: 0.0613 - acc: 0.9803 - val_loss: 0.0626 - val_acc: 0.9795\n",
            "Epoch 9/10\n",
            "8/8 [==============================] - 5s 612ms/step - loss: 0.0570 - acc: 0.9823 - val_loss: 0.0598 - val_acc: 0.9796\n",
            "Epoch 10/10\n",
            "8/8 [==============================] - 5s 625ms/step - loss: 0.0543 - acc: 0.9818 - val_loss: 0.0577 - val_acc: 0.9794\n"
          ],
          "name": "stdout"
        }
      ]
    },
    {
      "cell_type": "code",
      "metadata": {
        "colab": {
          "base_uri": "https://localhost:8080/",
          "height": 295
        },
        "id": "3x6xh3HsarB5",
        "outputId": "6cb8820b-cafa-4ba7-8c2f-96d74bdb70cb"
      },
      "source": [
        "# visualise training history\n",
        "plt.plot(bidirect_training.history['acc'])\n",
        "plt.plot(bidirect_training.history['val_acc'])\n",
        "plt.title('model accuracy')\n",
        "plt.ylabel('accuracy')\n",
        "plt.xlabel('epoch')\n",
        "plt.legend(['train', 'test'], loc=\"lower right\")\n",
        "plt.show()"
      ],
      "execution_count": 147,
      "outputs": [
        {
          "output_type": "display_data",
          "data": {
            "image/png": "[encoded data removed]",
            "text/plain": [
              "<Figure size 432x288 with 1 Axes>"
            ]
          },
          "metadata": {
            "tags": [],
            "needs_background": "light"
          }
        }
      ]
    },
    {
      "cell_type": "code",
      "metadata": {
        "colab": {
          "base_uri": "https://localhost:8080/"
        },
        "id": "SO8Di2c0a28z",
        "outputId": "754fe485-1503-4abc-8bd8-dc3c7eea02e8"
      },
      "source": [
        "loss, accuracy = rnn_model.evaluate(X_test, Y_test, verbose = 1)\n",
        "print(\"Loss: {0},\\nAccuracy: {1}\".format(loss, accuracy))"
      ],
      "execution_count": 148,
      "outputs": [
        {
          "output_type": "stream",
          "text": [
            "7/7 [==============================] - 0s 8ms/step - loss: 0.0761 - acc: 0.9812\n",
            "Loss: 0.07611016184091568,\n",
            "Accuracy: 0.9812437891960144\n"
          ],
          "name": "stdout"
        }
      ]
    },
    {
      "cell_type": "code",
      "metadata": {
        "colab": {
          "base_uri": "https://localhost:8080/"
        },
        "id": "YYrY_vN-a70K",
        "outputId": "47a82352-0c20-4607-b5fe-496fe1e882b3"
      },
      "source": [
        "loss, accuracy = lstm_model.evaluate(X_test, Y_test, verbose = 1)\n",
        "print(\"Loss: {0},\\nAccuracy: {1}\".format(loss, accuracy))"
      ],
      "execution_count": 149,
      "outputs": [
        {
          "output_type": "stream",
          "text": [
            "7/7 [==============================] - 0s 23ms/step - loss: 0.1175 - acc: 0.9734\n",
            "Loss: 0.11749482154846191,\n",
            "Accuracy: 0.9733830690383911\n"
          ],
          "name": "stdout"
        }
      ]
    },
    {
      "cell_type": "code",
      "metadata": {
        "colab": {
          "base_uri": "https://localhost:8080/"
        },
        "id": "uL7CUndHbAGa",
        "outputId": "cd542950-2f51-4357-b749-4e5213646a63"
      },
      "source": [
        "loss, accuracy = gru_model.evaluate(X_test, Y_test, verbose = 1)\n",
        "print(\"Loss: {0},\\nAccuracy: {1}\".format(loss, accuracy))"
      ],
      "execution_count": 150,
      "outputs": [
        {
          "output_type": "stream",
          "text": [
            "7/7 [==============================] - 0s 20ms/step - loss: 0.0582 - acc: 0.9824\n",
            "Loss: 0.058219388127326965,\n",
            "Accuracy: 0.9823880791664124\n"
          ],
          "name": "stdout"
        }
      ]
    },
    {
      "cell_type": "code",
      "metadata": {
        "colab": {
          "base_uri": "https://localhost:8080/"
        },
        "id": "WLl4TzRUbFqO",
        "outputId": "3c1ae8cf-52d0-4240-8d65-b9a96396d4ba"
      },
      "source": [
        "loss, accuracy = bidirect_model.evaluate(X_test, Y_test, verbose = 1)\n",
        "print(\"Loss: {0},\\nAccuracy: {1}\".format(loss, accuracy))"
      ],
      "execution_count": 151,
      "outputs": [
        {
          "output_type": "stream",
          "text": [
            "7/7 [==============================] - 0s 42ms/step - loss: 0.0544 - acc: 0.9800\n",
            "Loss: 0.054438453167676926,\n",
            "Accuracy: 0.980049729347229\n"
          ],
          "name": "stdout"
        }
      ]
    }
  ]
}